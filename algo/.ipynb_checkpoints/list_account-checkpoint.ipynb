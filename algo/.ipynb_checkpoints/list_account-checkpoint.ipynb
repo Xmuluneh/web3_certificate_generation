{
 "cells": [
  {
   "cell_type": "code",
   "execution_count": 1,
   "id": "f8a6919e-3e36-4f8b-9481-d949c12a1a2f",
   "metadata": {},
   "outputs": [
    {
     "name": "stderr",
     "output_type": "stream",
     "text": [
      "/Users/Aaron/anaconda3/envs/py31_env/lib/python3.10/site-packages/beaker/sandbox/__init__.py:14: UserWarning: beaker.sandbox is being deprecated, use beaker.localnet instead\n",
      "  warn(\"beaker.sandbox is being deprecated, use beaker.localnet instead\")\n"
     ]
    }
   ],
   "source": [
    "from beaker import sandbox"
   ]
  },
  {
   "cell_type": "code",
   "execution_count": 2,
   "id": "6676d8a0-7b17-4d2d-bc31-a41b6dfb9122",
   "metadata": {},
   "outputs": [],
   "source": [
    "client = sandbox.get_algod_client()"
   ]
  },
  {
   "cell_type": "code",
   "execution_count": 3,
   "id": "de1fcab9-b2d1-4cdc-84cd-e26f55e09182",
   "metadata": {},
   "outputs": [],
   "source": [
    "accounts = sandbox.get_accounts()"
   ]
  },
  {
   "cell_type": "code",
   "execution_count": 4,
   "id": "2a3a0dc7-305a-4bcb-bcfb-11711ce8cda8",
   "metadata": {},
   "outputs": [
    {
     "name": "stdout",
     "output_type": "stream",
     "text": [
      "Account balance NJZYW...WLFWE: 4,000,000,000,000,000 microAlgos\n",
      "Account balance U3SJJ...E3VK4: 1,000,000,000,000,000 microAlgos\n",
      "Account balance 4PEBK...7RKTI: 4,000,000,000,000,000 microAlgos\n"
     ]
    }
   ],
   "source": [
    "for account in accounts:\n",
    "    pk = account.address\n",
    "    account_info = client.account_info(pk)\n",
    "    balance = account_info.get('amount')\n",
    "    print(f\"Account balance {pk[:5]}...{pk[-5:]}: {balance:,.0f} microAlgos\")"
   ]
  },
  {
   "cell_type": "code",
   "execution_count": null,
   "id": "7c1d3965-119b-456d-9532-08bb54b0714e",
   "metadata": {},
   "outputs": [],
   "source": []
  }
 ],
 "metadata": {
  "kernelspec": {
   "display_name": "Python 3 (ipykernel)",
   "language": "python",
   "name": "python3"
  },
  "language_info": {
   "codemirror_mode": {
    "name": "ipython",
    "version": 3
   },
   "file_extension": ".py",
   "mimetype": "text/x-python",
   "name": "python",
   "nbconvert_exporter": "python",
   "pygments_lexer": "ipython3",
   "version": "3.10.13"
  }
 },
 "nbformat": 4,
 "nbformat_minor": 5
}
