{
 "cells": [
  {
   "cell_type": "code",
   "execution_count": 20,
   "id": "f5aa7302-57d1-43a3-8a91-f9fd0fdbd888",
   "metadata": {},
   "outputs": [],
   "source": [
    "from algosdk import account, mnemonic\n",
    "from algosdk import constants\n",
    "from algosdk.v2client import algod"
   ]
  },
  {
   "cell_type": "code",
   "execution_count": 17,
   "id": "91c7b2d1",
   "metadata": {},
   "outputs": [
    {
     "name": "stdout",
     "output_type": "stream",
     "text": [
      "My address: 5UK7FTIZLIVTPU6X5BTCW6XMGOUQWR4NBD4QJYK5HJ4Q6FZH2AJRB5ZRBM\n",
      "My passphrase: device lake crush figure picture grid title slice concert explain round intact sadness gaze butter venue silk arctic century bacon awesome board chat ability mail\n"
     ]
    }
   ],
   "source": [
    "#update algorand\n",
    "private_key, address = account.generate_account()\n",
    "print(\"My address: {}\".format(address))\n",
    "#print(\"My private key: {}\".format(private_key))\n",
    "print(\"My passphrase: {}\".format(mnemonic.from_private_key(private_key)))"
   ]
  },
  {
   "cell_type": "code",
   "execution_count": 21,
   "id": "98c83a5f",
   "metadata": {},
   "outputs": [
    {
     "ename": "NameError",
     "evalue": "name 'algod_client' is not defined",
     "output_type": "error",
     "traceback": [
      "\u001b[0;31m---------------------------------------------------------------------------\u001b[0m",
      "\u001b[0;31mNameError\u001b[0m                                 Traceback (most recent call last)",
      "Cell \u001b[0;32mIn[21], line 1\u001b[0m\n\u001b[0;32m----> 1\u001b[0m account_info \u001b[38;5;241m=\u001b[39m \u001b[43malgod_client\u001b[49m\u001b[38;5;241m.\u001b[39maccount_info(address)\n\u001b[1;32m      2\u001b[0m \u001b[38;5;28mprint\u001b[39m(\u001b[38;5;124m\"\u001b[39m\u001b[38;5;124mAccount balance: \u001b[39m\u001b[38;5;132;01m{}\u001b[39;00m\u001b[38;5;124m microAlgos\u001b[39m\u001b[38;5;124m\"\u001b[39m\u001b[38;5;241m.\u001b[39mformat(account_info\u001b[38;5;241m.\u001b[39mget(\u001b[38;5;124m'\u001b[39m\u001b[38;5;124mamount\u001b[39m\u001b[38;5;124m'\u001b[39m)) \u001b[38;5;241m+\u001b[39m \u001b[38;5;124m\"\u001b[39m\u001b[38;5;130;01m\\n\u001b[39;00m\u001b[38;5;124m\"\u001b[39m)\n",
      "\u001b[0;31mNameError\u001b[0m: name 'algod_client' is not defined"
     ]
    }
   ],
   "source": [
    "account_info = algod_client.account_info(address)\n",
    "print(\"Account balance: {} microAlgos\".format(account_info.get('amount')) + \"\\n\")"
   ]
  }
 ],
 "metadata": {
  "kernelspec": {
   "display_name": "Python 3 (ipykernel)",
   "language": "python",
   "name": "python3"
  },
  "language_info": {
   "codemirror_mode": {
    "name": "ipython",
    "version": 3
   },
   "file_extension": ".py",
   "mimetype": "text/x-python",
   "name": "python",
   "nbconvert_exporter": "python",
   "pygments_lexer": "ipython3",
   "version": "3.10.13"
  }
 },
 "nbformat": 4,
 "nbformat_minor": 5
}
