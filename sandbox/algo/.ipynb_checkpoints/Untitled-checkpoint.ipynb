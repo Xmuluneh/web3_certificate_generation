{
 "cells": [
  {
   "cell_type": "code",
   "execution_count": 3,
   "id": "f5aa7302-57d1-43a3-8a91-f9fd0fdbd888",
   "metadata": {},
   "outputs": [
    {
     "ename": "ModuleNotFoundError",
     "evalue": "No module named 'algosdk.future'",
     "output_type": "error",
     "traceback": [
      "\u001b[0;31m---------------------------------------------------------------------------\u001b[0m",
      "\u001b[0;31mModuleNotFoundError\u001b[0m                       Traceback (most recent call last)",
      "Cell \u001b[0;32mIn[3], line 1\u001b[0m\n\u001b[0;32m----> 1\u001b[0m \u001b[38;5;28;01mfrom\u001b[39;00m \u001b[38;5;21;01malgosdk\u001b[39;00m\u001b[38;5;21;01m.\u001b[39;00m\u001b[38;5;21;01mfuture\u001b[39;00m\u001b[38;5;21;01m.\u001b[39;00m\u001b[38;5;21;01mtransaction\u001b[39;00m \u001b[38;5;28;01mimport\u001b[39;00m \u001b[38;5;241m*\u001b[39m\n",
      "\u001b[0;31mModuleNotFoundError\u001b[0m: No module named 'algosdk.future'"
     ]
    }
   ],
   "source": [
    "from algosdk.future.transaction import *"
   ]
  },
  {
   "cell_type": "code",
   "execution_count": 4,
   "id": "491910f6-4eda-4dd9-b878-408f4983a8f3",
   "metadata": {},
   "outputs": [],
   "source": [
    "from algosdk import transaction"
   ]
  },
  {
   "cell_type": "code",
   "execution_count": null,
   "id": "eea592c2-d58a-4612-a5bc-85b8c24ae4aa",
   "metadata": {},
   "outputs": [],
   "source": []
  },
  {
   "cell_type": "code",
   "execution_count": 5,
   "id": "5ce0b349-fd51-4d83-a2fe-60dcd584aa72",
   "metadata": {},
   "outputs": [
    {
     "ename": "NameError",
     "evalue": "name 'PaymentTxn' is not defined",
     "output_type": "error",
     "traceback": [
      "\u001b[0;31m---------------------------------------------------------------------------\u001b[0m",
      "\u001b[0;31mNameError\u001b[0m                                 Traceback (most recent call last)",
      "Cell \u001b[0;32mIn[5], line 1\u001b[0m\n\u001b[0;32m----> 1\u001b[0m txn \u001b[38;5;241m=\u001b[39m \u001b[43mPaymentTxn\u001b[49m(\n\u001b[1;32m      2\u001b[0m     sender\u001b[38;5;241m=\u001b[39maccounts[\u001b[38;5;241m0\u001b[39m]\u001b[38;5;241m.\u001b[39maddress,\n\u001b[1;32m      3\u001b[0m     sp\u001b[38;5;241m=\u001b[39mclient\u001b[38;5;241m.\u001b[39msuggested_params(),\n\u001b[1;32m      4\u001b[0m     receiver\u001b[38;5;241m=\u001b[39maccounts[\u001b[38;5;241m1\u001b[39m]\u001b[38;5;241m.\u001b[39maddress,\n\u001b[1;32m      5\u001b[0m     amt\u001b[38;5;241m=\u001b[39m\u001b[38;5;241m1000\u001b[39m\n\u001b[1;32m      6\u001b[0m )\n",
      "\u001b[0;31mNameError\u001b[0m: name 'PaymentTxn' is not defined"
     ]
    }
   ],
   "source": [
    "txn = PaymentTxn(\n",
    "    sender=accounts[0].address,\n",
    "    sp=client.suggested_params(),\n",
    "    receiver=accounts[1].address,\n",
    "    amt=1000\n",
    ")"
   ]
  },
  {
   "cell_type": "code",
   "execution_count": null,
   "id": "e0a025c2-dbca-4424-99d6-7d55ba063bfd",
   "metadata": {},
   "outputs": [],
   "source": [
    "stxn = txn.sign(accounts[0].private_key)"
   ]
  },
  {
   "cell_type": "code",
   "execution_count": null,
   "id": "5e5fdc38-54d9-401a-88a8-06ff800ce755",
   "metadata": {},
   "outputs": [],
   "source": [
    "tx_id = client.send_transaction(stxn)"
   ]
  },
  {
   "cell_type": "code",
   "execution_count": null,
   "id": "abb3e35c-1424-4822-b567-7a6698c99cb2",
   "metadata": {},
   "outputs": [],
   "source": [
    "result =  wait_for_confirmation(client, tx_id, 2)"
   ]
  },
  {
   "cell_type": "code",
   "execution_count": null,
   "id": "d2876e56-7b8a-4959-b208-b4523d036d2d",
   "metadata": {},
   "outputs": [],
   "source": [
    "print(result)"
   ]
  },
  {
   "cell_type": "code",
   "execution_count": 2,
   "id": "ebb23a74-2934-46f4-9b6c-4597fbe890f7",
   "metadata": {},
   "outputs": [
    {
     "name": "stdout",
     "output_type": "stream",
     "text": [
      "Requirement already satisfied: py-algorand-sdk in /Users/Aaron/anaconda3/envs/py31_env/lib/python3.10/site-packages (2.5.0)\n",
      "Requirement already satisfied: pynacl<2,>=1.4.0 in /Users/Aaron/anaconda3/envs/py31_env/lib/python3.10/site-packages (from py-algorand-sdk) (1.5.0)\n",
      "Requirement already satisfied: pycryptodomex<4,>=3.6.0 in /Users/Aaron/anaconda3/envs/py31_env/lib/python3.10/site-packages (from py-algorand-sdk) (3.19.1)\n",
      "Requirement already satisfied: msgpack<2,>=1.0.0 in /Users/Aaron/anaconda3/envs/py31_env/lib/python3.10/site-packages (from py-algorand-sdk) (1.0.7)\n",
      "Requirement already satisfied: cffi>=1.4.1 in /Users/Aaron/anaconda3/envs/py31_env/lib/python3.10/site-packages (from pynacl<2,>=1.4.0->py-algorand-sdk) (1.16.0)\n",
      "Requirement already satisfied: pycparser in /Users/Aaron/anaconda3/envs/py31_env/lib/python3.10/site-packages (from cffi>=1.4.1->pynacl<2,>=1.4.0->py-algorand-sdk) (2.21)\n"
     ]
    }
   ],
   "source": [
    "!pip install py-algorand-sdk"
   ]
  },
  {
   "cell_type": "code",
   "execution_count": null,
   "id": "69f44e55-cc6f-4348-9ec3-efd0983718a0",
   "metadata": {},
   "outputs": [],
   "source": []
  }
 ],
 "metadata": {
  "kernelspec": {
   "display_name": "Python 3 (ipykernel)",
   "language": "python",
   "name": "python3"
  },
  "language_info": {
   "codemirror_mode": {
    "name": "ipython",
    "version": 3
   },
   "file_extension": ".py",
   "mimetype": "text/x-python",
   "name": "python",
   "nbconvert_exporter": "python",
   "pygments_lexer": "ipython3",
   "version": "3.10.13"
  }
 },
 "nbformat": 4,
 "nbformat_minor": 5
}
