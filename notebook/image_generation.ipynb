{
 "cells": [
  {
   "cell_type": "code",
   "execution_count": 1,
   "id": "e4f2b4ea-9d51-4f45-b622-daad75a57423",
   "metadata": {},
   "outputs": [],
   "source": [
    "import openai\n",
    "from dotenv import load_dotenv\n",
    "import os\n",
    "import requests\n",
    "import cv2\n",
    "import numpy as np\n",
    "from datetime import datetime"
   ]
  },
  {
   "cell_type": "code",
   "execution_count": 2,
   "id": "8a9d6b71-a5f4-4566-8711-cdea1ec54c77",
   "metadata": {},
   "outputs": [],
   "source": [
    "load_dotenv()\n",
    "openai.api_key = os.getenv('API_KEY')"
   ]
  },
  {
   "cell_type": "code",
   "execution_count": 3,
   "id": "e5a8f292-2798-482e-a8c9-30c545e44852",
   "metadata": {},
   "outputs": [],
   "source": [
    "def generate_certificate(prompt, n=1, size='1024x1024'):\n",
    "    try:\n",
    "        response = openai.Image.create(\n",
    "            prompt=prompt,\n",
    "            n=n,\n",
    "            size=size\n",
    "        )\n",
    "        image_url = response['data'][0]['url']\n",
    "        print(image_url)\n",
    "        return image_url\n",
    "    except Exception as e:\n",
    "        print(f\"Error: {e}\")\n",
    "        return None"
   ]
  },
  {
   "cell_type": "code",
   "execution_count": 4,
   "id": "594bece0-fcf0-4040-b504-5dacf05a416e",
   "metadata": {},
   "outputs": [],
   "source": [
    "def download_image(url, save_path):\n",
    "    response = requests.get(url)\n",
    "    if response.status_code == 200:\n",
    "        with open(save_path, 'wb') as file:\n",
    "            file.write(response.content)\n",
    "        print(f\"Image downloaded and saved at {save_path}\")\n",
    "    else:\n",
    "        print(f\"Failed to download image. Status code: {response.status_code}\")"
   ]
  },
  {
   "cell_type": "code",
   "execution_count": 7,
   "id": "97cba8af-0193-478a-92f6-a6e99809e8c0",
   "metadata": {},
   "outputs": [
    {
     "name": "stdout",
     "output_type": "stream",
     "text": [
      "https://oaidalleapiprodscus.blob.core.windows.net/private/org-57DHbubaUsKcpEwBCHTVrS6b/user-ZPTxrE5Z3of20YjzdGT5LsFj/img-AxoNAcCj8F1ix9jwkBjt4egL.png?st=2024-01-10T11%3A57%3A22Z&se=2024-01-10T13%3A57%3A22Z&sp=r&sv=2021-08-06&sr=b&rscd=inline&rsct=image/png&skoid=6aaadede-4fb3-4698-a8f6-684d7786b067&sktid=a48cca56-e6da-484e-a814-9c849652bcb3&skt=2024-01-10T02%3A23%3A09Z&ske=2024-01-11T02%3A23%3A09Z&sks=b&skv=2021-08-06&sig=QEfSvnIfnbDXc%2Ba4DOzD0/56eOrpczX99FQqNaoYnHE%3D\n",
      "Image downloaded and saved at /Users/Aaron/web3_certificate_generation/images/downloaded_image.jpg\n"
     ]
    }
   ],
   "source": [
    "original_prompt = (\n",
    "   '''A captivating and dynamic certificate commemorating the successful completion of a weekly challenge at 10 Academy.\n",
    "    This distinctive certificate is adorned with a luxurious gold border, adorned with the prestigious 10 Academy emblem as a watermark.\n",
    "    It includes designated spaces for the recipient's name, the date of achievement,and the signature of the challenge coordinator.\n",
    "    The certificate is designed to symbolize exceptional performance in the context of a weekly challenge.'''\n",
    ")\n",
    "\n",
    "updated_prompt = (\n",
    "    \"I NEED to test how the tool works with extremely simple prompts. \"\n",
    "    \"DO NOT add any detail, just use it AS-IS: \" + original_prompt\n",
    ")\n",
    "\n",
    "generated_image_url = generate_certificate(updated_prompt)\n",
    "if generated_image_url:\n",
    "    save_path = \"../images/downloaded_image.jpg\"\n",
    "    download_image(generated_image_url, save_path)\n"
   ]
  },
  {
   "cell_type": "code",
   "execution_count": 9,
   "id": "b40b82f9",
   "metadata": {},
   "outputs": [],
   "source": [
    "def generate_certificate(name, logo_path, date):\n",
    "    # Load the certificate background image\n",
    "    certificate = cv2.imread('certificate_template.jpg')  \n",
    "\n",
    "    # Add Full Name\n",
    "    font = cv2.FONT_HERSHEY_SIMPLEX\n",
    "    name_position = (100, 200)\n",
    "    name_font_size = 2\n",
    "    name_color = (0, 0, 0)  # Black\n",
    "    cv2.putText(certificate, name, name_position, font, name_font_size, name_color, 2, cv2.LINE_AA)\n",
    "\n",
    "    # Add Logo\n",
    "    logo = cv2.imread(logo_path)\n",
    "    logo_position = (50, 50)\n",
    "    certificate[logo_position[1]:logo_position[1] + logo.shape[0], logo_position[0]:logo_position[0] + logo.shape[1]] = logo\n",
    "\n",
    "    # Add Date\n",
    "    date_text = f\"Date: {date.strftime('%Y-%m-%d')}\"\n",
    "    date_position = (100, 300)\n",
    "    date_font_size = 1\n",
    "    date_color = (0, 0, 0)  # Black\n",
    "    cv2.putText(certificate, date_text, date_position, font, date_font_size, date_color, 1, cv2.LINE_AA)\n",
    "\n",
    "    # Save the generated certificate\n",
    "    cv2.imwrite('generated_certificate.jpg', certificate)"
   ]
  },
  {
   "cell_type": "code",
   "execution_count": 10,
   "id": "2bcbaa91",
   "metadata": {},
   "outputs": [],
   "source": [
    "# Example usage:\n",
    "full_name = \"Aaron GebrMariam\"\n",
    "logo_path = '../images/10x.png'  # Replace with your actual logo path\n",
    "current_date = datetime.now()\n",
    "\n",
    "generate_certificate(full_name, logo_path, current_date)"
   ]
  }
 ],
 "metadata": {
  "kernelspec": {
   "display_name": "Python 3 (ipykernel)",
   "language": "python",
   "name": "python3"
  },
  "language_info": {
   "codemirror_mode": {
    "name": "ipython",
    "version": 3
   },
   "file_extension": ".py",
   "mimetype": "text/x-python",
   "name": "python",
   "nbconvert_exporter": "python",
   "pygments_lexer": "ipython3",
   "version": "3.10.13"
  }
 },
 "nbformat": 4,
 "nbformat_minor": 5
}
