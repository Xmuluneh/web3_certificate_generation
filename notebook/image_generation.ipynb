{
 "cells": [
  {
   "cell_type": "code",
   "execution_count": 1,
   "id": "e4f2b4ea-9d51-4f45-b622-daad75a57423",
   "metadata": {},
   "outputs": [],
   "source": [
    "import openai\n",
    "from dotenv import load_dotenv\n",
    "import os\n",
    "import requests"
   ]
  },
  {
   "cell_type": "code",
   "execution_count": 2,
   "id": "8a9d6b71-a5f4-4566-8711-cdea1ec54c77",
   "metadata": {},
   "outputs": [],
   "source": [
    "load_dotenv()\n",
    "openai.api_key = os.getenv('API_KEY')"
   ]
  },
  {
   "cell_type": "code",
   "execution_count": 3,
   "id": "e5a8f292-2798-482e-a8c9-30c545e44852",
   "metadata": {},
   "outputs": [],
   "source": [
    "def generate_certificate(prompt, n=1, size='1024x1024'):\n",
    "    try:\n",
    "        response = openai.Image.create(\n",
    "            prompt=prompt,\n",
    "            n=n,\n",
    "            size=size\n",
    "        )\n",
    "        image_url = response['data'][0]['url']\n",
    "        print(image_url)\n",
    "        return image_url\n",
    "    except Exception as e:\n",
    "        print(f\"Error: {e}\")\n",
    "        return None"
   ]
  },
  {
   "cell_type": "code",
   "execution_count": 4,
   "id": "594bece0-fcf0-4040-b504-5dacf05a416e",
   "metadata": {},
   "outputs": [],
   "source": [
    "def download_image(url, save_path):\n",
    "    response = requests.get(url)\n",
    "    if response.status_code == 200:\n",
    "        with open(save_path, 'wb') as file:\n",
    "            file.write(response.content)\n",
    "        print(f\"Image downloaded and saved at {save_path}\")\n",
    "    else:\n",
    "        print(f\"Failed to download image. Status code: {response.status_code}\")"
   ]
  },
  {
   "cell_type": "code",
   "execution_count": 7,
   "id": "97cba8af-0193-478a-92f6-a6e99809e8c0",
   "metadata": {},
   "outputs": [
    {
     "name": "stdout",
     "output_type": "stream",
     "text": [
      "https://oaidalleapiprodscus.blob.core.windows.net/private/org-57DHbubaUsKcpEwBCHTVrS6b/user-ZPTxrE5Z3of20YjzdGT5LsFj/img-AxoNAcCj8F1ix9jwkBjt4egL.png?st=2024-01-10T11%3A57%3A22Z&se=2024-01-10T13%3A57%3A22Z&sp=r&sv=2021-08-06&sr=b&rscd=inline&rsct=image/png&skoid=6aaadede-4fb3-4698-a8f6-684d7786b067&sktid=a48cca56-e6da-484e-a814-9c849652bcb3&skt=2024-01-10T02%3A23%3A09Z&ske=2024-01-11T02%3A23%3A09Z&sks=b&skv=2021-08-06&sig=QEfSvnIfnbDXc%2Ba4DOzD0/56eOrpczX99FQqNaoYnHE%3D\n",
      "Image downloaded and saved at /Users/Aaron/web3_certificate_generation/images/downloaded_image.jpg\n"
     ]
    }
   ],
   "source": [
    "original_prompt = (\n",
    "    \"An engaging and vibrant certificate of completion for a weekly challenge at 10 Academy, \"\n",
    "    \"featuring a gold border, a watermark of the 10 Academy emblem, and spaces for the recipient's name, \"\n",
    "    \"the date, and the signature of the challenge coordinator. The certificate \"\n",
    "    \"should signify outstanding performance in a weekly challenge.\"\n",
    ")\n",
    "\n",
    "updated_prompt = (\n",
    "    \"I NEED to test how the tool works with extremely simple prompts. \"\n",
    "    \"DO NOT add any detail, just use it AS-IS: \" + original_prompt\n",
    ")\n",
    "\n",
    "generated_image_url = generate_certificate(updated_prompt)\n",
    "if generated_image_url:\n",
    "    save_path = \"/Users/Aaron/web3_certificate_generation/images/downloaded_image.jpg\"\n",
    "    download_image(generated_image_url, save_path)\n"
   ]
  },
  {
   "cell_type": "code",
   "execution_count": null,
   "id": "4c4e5e07-33d1-446a-a1e9-807e641250b6",
   "metadata": {},
   "outputs": [],
   "source": []
  },
  {
   "cell_type": "code",
   "execution_count": null,
   "id": "9d1b7d1a",
   "metadata": {},
   "outputs": [],
   "source": []
  },
  {
   "cell_type": "code",
   "execution_count": null,
   "id": "0a61cf29",
   "metadata": {},
   "outputs": [],
   "source": []
  }
 ],
 "metadata": {
  "kernelspec": {
   "display_name": "Python 3 (ipykernel)",
   "language": "python",
   "name": "python3"
  },
  "language_info": {
   "codemirror_mode": {
    "name": "ipython",
    "version": 3
   },
   "file_extension": ".py",
   "mimetype": "text/x-python",
   "name": "python",
   "nbconvert_exporter": "python",
   "pygments_lexer": "ipython3",
   "version": "3.10.13"
  }
 },
 "nbformat": 4,
 "nbformat_minor": 5
}
